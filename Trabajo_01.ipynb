{
 "cells": [
  {
   "attachments": {},
   "cell_type": "markdown",
   "metadata": {},
   "source": [
    "# GIT"
   ]
  },
  {
   "attachments": {},
   "cell_type": "markdown",
   "metadata": {},
   "source": [
    "GIT es una herramienta de seguimiento de codigo, con el que se puede **controlar versiones**, permitiendo controlar un historial haciendo actualizaciones y pudiendo manejar *rollback*. \n",
    "\n",
    "Lleva un registro de <u>cambios que hacen otras personas</u>. \n",
    "\n",
    "Lo interesante de GIT es que varias personas pueden estar trabajando en un codigo y se puede hacer que entren a producción y hacer *rollbasks* si alguna actualizacion genera un problema por lo que no es necesario desisntalar todas las actualizaciones ya que se sabra en donde esta el problema. "
   ]
  },
  {
   "attachments": {},
   "cell_type": "markdown",
   "metadata": {},
   "source": [
    "## Configuración"
   ]
  },
  {
   "attachments": {},
   "cell_type": "markdown",
   "metadata": {},
   "source": [
    "Para la configuración de la herramienta se usan los siguientes comandos los cuales se explican brevemente \n",
    "1. git –version: devuelve la vesión de GIT ⌴\n",
    "2. git config --global user.name \"Jose Tahuite\": configurar el nombre\n",
    "3. dafsgit config --global user.email josetahuite@hotmail.com: configurar el correo  \n",
    "4. git config --global core.editor \"code --wait\": configurar el VC como editor default \n",
    "\n",
    "\n",
    "luego para abir el editor por default podemos ejecutar \n",
    "```python\n",
    "git config --global -e;\n",
    "```"
   ]
  },
  {
   "attachments": {},
   "cell_type": "markdown",
   "metadata": {},
   "source": [
    "## Moviendose entre carpertas"
   ]
  },
  {
   "attachments": {},
   "cell_type": "markdown",
   "metadata": {},
   "source": [
    "Los siguientes comandos nos ayudan a movilizarnos entre carpertas o directorios \n",
    "\n",
    "* PWD: devuelve en que carpeta me encuentro \n",
    "* LS: ver los archivos de la ubicación en donde se ubica GIT \n",
    "* LS - a: ver los archivos de la ubicación en donde se ubica GIT (incluyendo ocultos)\n",
    "* CD ‘CARPERA’: ingresar a la  **‘CARPETA’**\n",
    "* CD ..: retroceder a la capeta superior \n",
    "\n",
    "\n"
   ]
  },
  {
   "attachments": {},
   "cell_type": "markdown",
   "metadata": {},
   "source": [
    "## Inicializando el trabajo "
   ]
  },
  {
   "attachments": {},
   "cell_type": "markdown",
   "metadata": {},
   "source": [
    "Luego de estar en la ubicacion deseada podemos crear la carpeta e inicar GIT en eta ubucacion con los siguientes comandos\n",
    "* mkdir ‘carpera’: crear carpera en la ubicación que nos encontramos \n",
    "* git init: iniciar un repositorio en GIT "
   ]
  },
  {
   "attachments": {},
   "cell_type": "markdown",
   "metadata": {},
   "source": [
    "## Cargando a GITHUB"
   ]
  },
  {
   "attachments": {},
   "cell_type": "markdown",
   "metadata": {},
   "source": [
    "para revisar el estatus del servidor y los archivos que se podrían cargar \n",
    "\n",
    "1.  git status: estatus del servidor \n",
    "\n",
    "2.  luego para agregar el archivo al stage \n",
    "*   git add archivo1.txt: solo agrega el archivo indicado\n",
    "*   git add *.txt: agregar archivos al repositorio con extensión txt\n",
    "*   git add .: agregar todos los archivos \n",
    "\n",
    "3.  agregar con un comentario indicando lo que se realizo al commit\n",
    "*   git commit -m “comentario”: pasar archivos de stage a commit \n",
    "\n",
    "4.  dentro de GITHUB se toman los siguientes comandos y se ejecutan en la terminal \n",
    "*   git branch -M main\n",
    "*   git remote add origin https://github.com/josetahuite/GIT.git\n",
    "\n",
    "\n",
    "revisamos en GITHUB y alli encontramos el archivo \n"
   ]
  },
  {
   "attachments": {},
   "cell_type": "markdown",
   "metadata": {},
   "source": [
    "<img src=https://velog.velcdn.com/images%2Fhangoook%2Fpost%2F9552d28a-b428-4932-af16-cb6095d0f054%2Fgit%20workflow.jpeg>"
   ]
  }
 ],
 "metadata": {
  "kernelspec": {
   "display_name": "Clase_Viernes03Feb23",
   "language": "python",
   "name": "python3"
  },
  "language_info": {
   "codemirror_mode": {
    "name": "ipython",
    "version": 3
   },
   "file_extension": ".py",
   "mimetype": "text/x-python",
   "name": "python",
   "nbconvert_exporter": "python",
   "pygments_lexer": "ipython3",
   "version": "3.8.16"
  },
  "orig_nbformat": 4
 },
 "nbformat": 4,
 "nbformat_minor": 2
}
